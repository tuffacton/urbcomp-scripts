{
 "cells": [
  {
   "cell_type": "code",
   "execution_count": 1,
   "metadata": {
    "collapsed": true
   },
   "outputs": [],
   "source": [
    "import os, sys\n",
    "import pandas as pd\n",
    "import numpy as np\n",
    "import matplotlib.mlab as mlab\n",
    "import matplotlib.pyplot as plt\n",
    "import datetime\n",
    "import warnings\n",
    "sys.path.insert(0,'../')\n",
    "%load_ext autoreload\n",
    "%autoreload 2\n",
    "from utils import nyctaxi_helpers\n",
    "warnings.filterwarnings('ignore')"
   ]
  },
  {
   "cell_type": "code",
   "execution_count": 2,
   "metadata": {
    "collapsed": false
   },
   "outputs": [
    {
     "data": {
      "text/html": [
       "<div>\n",
       "<style>\n",
       "    .dataframe thead tr:only-child th {\n",
       "        text-align: right;\n",
       "    }\n",
       "\n",
       "    .dataframe thead th {\n",
       "        text-align: left;\n",
       "    }\n",
       "\n",
       "    .dataframe tbody tr th {\n",
       "        vertical-align: top;\n",
       "    }\n",
       "</style>\n",
       "<table border=\"1\" class=\"dataframe\">\n",
       "  <thead>\n",
       "    <tr style=\"text-align: right;\">\n",
       "      <th></th>\n",
       "      <th>VendorID</th>\n",
       "      <th>lpep_pickup_datetime</th>\n",
       "      <th>lpep_dropoff_datetime</th>\n",
       "      <th>store_and_fwd_flag</th>\n",
       "      <th>RatecodeID</th>\n",
       "      <th>PULocationID</th>\n",
       "      <th>DOLocationID</th>\n",
       "      <th>passenger_count</th>\n",
       "      <th>trip_distance</th>\n",
       "      <th>fare_amount</th>\n",
       "      <th>extra</th>\n",
       "      <th>mta_tax</th>\n",
       "      <th>tip_amount</th>\n",
       "      <th>tolls_amount</th>\n",
       "      <th>ehail_fee</th>\n",
       "      <th>improvement_surcharge</th>\n",
       "      <th>total_amount</th>\n",
       "      <th>payment_type</th>\n",
       "      <th>trip_type</th>\n",
       "    </tr>\n",
       "  </thead>\n",
       "  <tbody>\n",
       "    <tr>\n",
       "      <th>0</th>\n",
       "      <td>2</td>\n",
       "      <td>2017-06-01 00:33:45</td>\n",
       "      <td>2017-06-01 01:39:52</td>\n",
       "      <td>N</td>\n",
       "      <td>4</td>\n",
       "      <td>35</td>\n",
       "      <td>265</td>\n",
       "      <td>1</td>\n",
       "      <td>90.41</td>\n",
       "      <td>404.5</td>\n",
       "      <td>0.5</td>\n",
       "      <td>0.5</td>\n",
       "      <td>0.00</td>\n",
       "      <td>5.76</td>\n",
       "      <td>NaN</td>\n",
       "      <td>0.3</td>\n",
       "      <td>413.51</td>\n",
       "      <td>2</td>\n",
       "      <td>1.0</td>\n",
       "    </tr>\n",
       "    <tr>\n",
       "      <th>1</th>\n",
       "      <td>2</td>\n",
       "      <td>2017-06-01 00:33:55</td>\n",
       "      <td>2017-06-01 23:36:23</td>\n",
       "      <td>N</td>\n",
       "      <td>1</td>\n",
       "      <td>263</td>\n",
       "      <td>75</td>\n",
       "      <td>1</td>\n",
       "      <td>0.38</td>\n",
       "      <td>4.0</td>\n",
       "      <td>0.5</td>\n",
       "      <td>0.5</td>\n",
       "      <td>1.59</td>\n",
       "      <td>0.00</td>\n",
       "      <td>NaN</td>\n",
       "      <td>0.3</td>\n",
       "      <td>6.89</td>\n",
       "      <td>1</td>\n",
       "      <td>1.0</td>\n",
       "    </tr>\n",
       "  </tbody>\n",
       "</table>\n",
       "</div>"
      ],
      "text/plain": [
       "   VendorID lpep_pickup_datetime lpep_dropoff_datetime store_and_fwd_flag  \\\n",
       "0         2  2017-06-01 00:33:45   2017-06-01 01:39:52                  N   \n",
       "1         2  2017-06-01 00:33:55   2017-06-01 23:36:23                  N   \n",
       "\n",
       "   RatecodeID  PULocationID  DOLocationID  passenger_count  trip_distance  \\\n",
       "0           4            35           265                1          90.41   \n",
       "1           1           263            75                1           0.38   \n",
       "\n",
       "   fare_amount  extra  mta_tax  tip_amount  tolls_amount  ehail_fee  \\\n",
       "0        404.5    0.5      0.5        0.00          5.76        NaN   \n",
       "1          4.0    0.5      0.5        1.59          0.00        NaN   \n",
       "\n",
       "   improvement_surcharge  total_amount  payment_type  trip_type  \n",
       "0                    0.3        413.51             2        1.0  \n",
       "1                    0.3          6.89             1        1.0  "
      ]
     },
     "execution_count": 2,
     "metadata": {},
     "output_type": "execute_result"
    }
   ],
   "source": [
    "dt = pd.read_csv('../datasets/nyctaxi/green_tripdata_2017-06.csv.gz')\n",
    "# sneak peak in the data\n",
    "dt.head(2)"
   ]
  },
  {
   "cell_type": "code",
   "execution_count": 3,
   "metadata": {
    "collapsed": false
   },
   "outputs": [
    {
     "data": {
      "text/html": [
       "<div>\n",
       "<style>\n",
       "    .dataframe thead tr:only-child th {\n",
       "        text-align: right;\n",
       "    }\n",
       "\n",
       "    .dataframe thead th {\n",
       "        text-align: left;\n",
       "    }\n",
       "\n",
       "    .dataframe tbody tr th {\n",
       "        vertical-align: top;\n",
       "    }\n",
       "</style>\n",
       "<table border=\"1\" class=\"dataframe\">\n",
       "  <thead>\n",
       "    <tr style=\"text-align: right;\">\n",
       "      <th></th>\n",
       "      <th>store_and_fwd_flag</th>\n",
       "      <th>RatecodeID</th>\n",
       "      <th>PULocationID</th>\n",
       "      <th>DOLocationID</th>\n",
       "      <th>passenger_count</th>\n",
       "      <th>trip_distance</th>\n",
       "      <th>fare_amount</th>\n",
       "      <th>extra</th>\n",
       "      <th>mta_tax</th>\n",
       "      <th>tolls_amount</th>\n",
       "      <th>improvement_surcharge</th>\n",
       "      <th>total_amount</th>\n",
       "      <th>payment_type</th>\n",
       "      <th>trip_type</th>\n",
       "      <th>d_hour_of_day</th>\n",
       "      <th>p_hour_of_day</th>\n",
       "      <th>pickup_dropoff_diff</th>\n",
       "      <th>day_of_week</th>\n",
       "      <th>tip_fair_class</th>\n",
       "    </tr>\n",
       "  </thead>\n",
       "  <tbody>\n",
       "    <tr>\n",
       "      <th>0</th>\n",
       "      <td>N</td>\n",
       "      <td>4</td>\n",
       "      <td>35</td>\n",
       "      <td>265</td>\n",
       "      <td>1</td>\n",
       "      <td>90.41</td>\n",
       "      <td>404.5</td>\n",
       "      <td>0.5</td>\n",
       "      <td>0.5</td>\n",
       "      <td>5.76</td>\n",
       "      <td>0.3</td>\n",
       "      <td>413.51</td>\n",
       "      <td>2</td>\n",
       "      <td>1.0</td>\n",
       "      <td>01</td>\n",
       "      <td>00</td>\n",
       "      <td>8.285765</td>\n",
       "      <td>3</td>\n",
       "      <td>0.0</td>\n",
       "    </tr>\n",
       "    <tr>\n",
       "      <th>1</th>\n",
       "      <td>N</td>\n",
       "      <td>1</td>\n",
       "      <td>263</td>\n",
       "      <td>75</td>\n",
       "      <td>1</td>\n",
       "      <td>0.38</td>\n",
       "      <td>4.0</td>\n",
       "      <td>0.5</td>\n",
       "      <td>0.5</td>\n",
       "      <td>0.00</td>\n",
       "      <td>0.3</td>\n",
       "      <td>6.89</td>\n",
       "      <td>1</td>\n",
       "      <td>1.0</td>\n",
       "      <td>23</td>\n",
       "      <td>00</td>\n",
       "      <td>11.325969</td>\n",
       "      <td>3</td>\n",
       "      <td>1.0</td>\n",
       "    </tr>\n",
       "  </tbody>\n",
       "</table>\n",
       "</div>"
      ],
      "text/plain": [
       "  store_and_fwd_flag RatecodeID PULocationID DOLocationID passenger_count  \\\n",
       "0                  N          4           35          265               1   \n",
       "1                  N          1          263           75               1   \n",
       "\n",
       "   trip_distance  fare_amount  extra  mta_tax  tolls_amount  \\\n",
       "0          90.41        404.5    0.5      0.5          5.76   \n",
       "1           0.38          4.0    0.5      0.5          0.00   \n",
       "\n",
       "   improvement_surcharge  total_amount payment_type trip_type d_hour_of_day  \\\n",
       "0                    0.3        413.51            2       1.0            01   \n",
       "1                    0.3          6.89            1       1.0            23   \n",
       "\n",
       "  p_hour_of_day  pickup_dropoff_diff day_of_week  tip_fair_class  \n",
       "0            00             8.285765           3             0.0  \n",
       "1            00            11.325969           3             1.0  "
      ]
     },
     "execution_count": 3,
     "metadata": {},
     "output_type": "execute_result"
    }
   ],
   "source": [
    "dt = nyctaxi_helpers.preprocessing(dt)\n",
    "# let's take a look at the processed data\n",
    "dt.head(2)"
   ]
  },
  {
   "cell_type": "code",
   "execution_count": 4,
   "metadata": {
    "collapsed": true
   },
   "outputs": [],
   "source": [
    "X = nyctaxi_helpers.convert_categorical(dt)\n",
    "# replace all inf, -inf with zeros\n",
    "X.replace([np.inf, -np.inf], np.nan,inplace=True)\n",
    "X.fillna(0,inplace=True)"
   ]
  },
  {
   "cell_type": "code",
   "execution_count": 5,
   "metadata": {
    "collapsed": true
   },
   "outputs": [],
   "source": [
    "import math\n",
    "models = {}\n",
    "from sklearn.tree import DecisionTreeClassifier\n",
    "from sklearn.naive_bayes import GaussianNB\n",
    "\n",
    "dtmodel = DecisionTreeClassifier(random_state = 100, class_weight=\"balanced\")\n",
    "gnbmodel = GaussianNB()\n",
    "models.update({'Decision Tree':dtmodel})\n",
    "models.update({'Gaussian Naive Bayes':gnbmodel})"
   ]
  },
  {
   "cell_type": "code",
   "execution_count": 6,
   "metadata": {
    "collapsed": false
   },
   "outputs": [
    {
     "name": "stdout",
     "output_type": "stream",
     "text": [
      "Running the Decision Tree Classifier...\n",
      "Precision: 0.9753404828441747\tRecall: 0.9788809302657342\tfscore:0.9771029845571908\n",
      "Running the Gaussian Naive Bayes Classifier...\n",
      "Precision: 0.5681931746282897\tRecall: 0.7660265862601382\tfscore:0.4893861087949189\n"
     ]
    }
   ],
   "source": [
    "# we use 10-fold cross-validation to run the model\n",
    "from sklearn.model_selection import train_test_split\n",
    "from sklearn.metrics import precision_recall_fscore_support\n",
    "y_cls = X['tip_fair_class']\n",
    "XX_cls = X.drop('tip_fair_class',axis = 1)\n",
    "# model name which could be any of the following\n",
    "# sorted by the amount of time they take to train the model:\n",
    "# GradientBoost, XGBoost, RandomForest, Bagging, Linear\n",
    "for model_name, model in models.items():\n",
    "    print(\"Running the {} Classifier...\".format(model_name))\n",
    "    scores =[]\n",
    "    x_train, x_test, y_train, y_test = train_test_split(XX_cls, y_cls, test_size=0.33, random_state=42)\n",
    "    y_pred = nyctaxi_helpers.run_classifier(model,x_train, y_train, x_test)\n",
    "    (precision, recall, fscore, support) = precision_recall_fscore_support(y_test, y_pred, average='macro')\n",
    "    print('Precision: {}\\tRecall: {}\\tfscore:{}'.format(precision, recall, fscore))\n"
   ]
  }
 ],
 "metadata": {
  "anaconda-cloud": {},
  "kernelspec": {
   "display_name": "Python [default]",
   "language": "python",
   "name": "python3"
  },
  "language_info": {
   "codemirror_mode": {
    "name": "ipython",
    "version": 3
   },
   "file_extension": ".py",
   "mimetype": "text/x-python",
   "name": "python",
   "nbconvert_exporter": "python",
   "pygments_lexer": "ipython3",
   "version": "3.5.2"
  },
  "latex_envs": {
   "bibliofile": "biblio.bib",
   "cite_by": "apalike",
   "current_citInitial": 1,
   "eqLabelWithNumbers": true,
   "eqNumInitial": 0
  }
 },
 "nbformat": 4,
 "nbformat_minor": 2
}
